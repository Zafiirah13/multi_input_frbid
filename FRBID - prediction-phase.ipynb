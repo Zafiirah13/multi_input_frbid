{
 "cells": [
  {
   "cell_type": "markdown",
   "metadata": {},
   "source": [
    "# FRBID prediction phase on new candidate files\n",
    "\n",
    "    Authors : Zafiirah Hosenie\n",
    "    Email : zafiirah.hosenie@gmail.com or zafiirah.hosenie@postgrad.manchester.ac.uk\n",
    "    Affiliation : The University of Manchester, UK.\n",
    "    License : MIT\n",
    "    Status : Under Development\n",
    "    Description : Python implementation for FRBID: Fast Radio Burst Intelligent Distinguisher.\n",
    "    This code is tested in Python 3 version 3.6\n"
   ]
  },
  {
   "cell_type": "code",
   "execution_count": 1,
   "metadata": {},
   "outputs": [
    {
     "name": "stderr",
     "output_type": "stream",
     "text": [
      "Using TensorFlow backend.\n"
     ]
    }
   ],
   "source": [
    "import warnings\n",
    "warnings.filterwarnings(\"ignore\")\n",
    "import os\n",
    "import numpy as np\n",
    "import pandas as pd\n",
    "from frbid_code.model import compile_model,model_save \n",
    "import matplotlib.pylab as plt\n",
    "from keras.utils import np_utils\n",
    "from time import gmtime, strftime\n",
    "from frbid_code.util import makedirs, ensure_dir\n",
    "from frbid_code.prediction_phase import load_candidate, FRB_prediction\n"
   ]
  },
  {
   "cell_type": "code",
   "execution_count": 2,
   "metadata": {},
   "outputs": [],
   "source": [
    "# Parameters to change\n",
    "data_dir = './data/testing_set/' # The directory where the hdf5 candidates are located\n",
    "result_dir = './data/results_csv/' # The directory where the csv file after prediction will be saved\n",
    "model_cnn_name = 'MULTIINPUT' # The network name choose from: 'MULTIINPUT'\n",
    "probability = 0.5 # The detection threshold"
   ]
  },
  {
   "cell_type": "markdown",
   "metadata": {},
   "source": [
    "# Load the new candidates\n",
    "- data_dir: The directory that contains the hdf5 files\n",
    "- n_images: can either take str 'dm_fq_time', 'dm_time', 'fq_time'"
   ]
  },
  {
   "cell_type": "code",
   "execution_count": 3,
   "metadata": {},
   "outputs": [
    {
     "name": "stdout",
     "output_type": "stream",
     "text": [
      "Total number of candidate instances: 1291\n",
      "The Shape of the DM test set is (1291, 256, 256, 1)\n",
      "The Shape of the Freq test set is (1291, 256, 256, 1)\n"
     ]
    }
   ],
   "source": [
    "# test, ID_test = load_candidate(data_dir=data_dir ,n_images=n_images)\n",
    "test_dm, test_freq, ID_test    = load_candidate(data_dir = data_dir, n_images = 'dm_time_fq_time')\n",
    "# test_freq, ID_test    = load_candidate(data_dir = data_dir, n_images = 'fq_time')\n",
    "\n",
    "print(\"Total number of candidate instances: {}\".format(str(len(ID_test))))\n",
    "print(\"The Shape of the DM test set is {}\".format(test_dm.shape))\n",
    "print(\"The Shape of the Freq test set is {}\".format(test_freq.shape))"
   ]
  },
  {
   "cell_type": "markdown",
   "metadata": {},
   "source": [
    "# Prediction on new candidate files\n",
    "Here we will load the pre-existing train model using the parameter \n",
    "INPUT:\n",
    "- model_name: 'MULTIINPUT'\n",
    "- X_test : Image data should have shape (Nimages,256,256,1). This will vary depending on the criteria one use for n_images.\n",
    "- ID: The candidate filename\n",
    "- result_dir: The directory to save the csv prediction file\n",
    "\n",
    "OUTPUT:\n",
    "- overall_real_prob: An array of probability that each source is FRB. Value will range between [0 to 1.0]\n",
    "- overall_dataframe: A table with column candidate name of all sources and its associated probability that it is a FRB source and its labels\n"
   ]
  },
  {
   "cell_type": "code",
   "execution_count": 4,
   "metadata": {},
   "outputs": [
    {
     "name": "stdout",
     "output_type": "stream",
     "text": [
      "WARNING:tensorflow:From /home/hosenie/.conda/envs/meercrab/lib/python3.6/site-packages/keras/backend/tensorflow_backend.py:1255: calling reduce_prod (from tensorflow.python.ops.math_ops) with keep_dims is deprecated and will be removed in a future version.\n",
      "Instructions for updating:\n",
      "keep_dims is deprecated, use keepdims instead\n",
      "Loaded model:MULTIINPUT from disk\n"
     ]
    }
   ],
   "source": [
    "overall_real_prob, overall_dataframe = FRB_prediction(model_name=model_cnn_name, X_test_dm=test_dm, X_test_freq=test_freq, ID=ID_test,result_dir=result_dir,probability=probability)\n"
   ]
  },
  {
   "cell_type": "code",
   "execution_count": 5,
   "metadata": {},
   "outputs": [
    {
     "data": {
      "text/plain": [
       "array(['59049.5164386894_DM_42.98_beam_149C_frbid.hdf5',\n",
       "       '59049.532366364_DM_114.20_beam_666C_frbid.hdf5',\n",
       "       '59049.5356864285_DM_279.06_beam_477C_frbid.hdf5', ...,\n",
       "       '59149.261510809105_DM_48.81_beam_0I_frbid.hdf5',\n",
       "       '59149.2615524036_DM_36.84_beam_209C_frbid.hdf5',\n",
       "       '59149.2615802313_DM_23.64_beam_206C_frbid.hdf5'], dtype='<U50')"
      ]
     },
     "execution_count": 5,
     "metadata": {},
     "output_type": "execute_result"
    }
   ],
   "source": [
    "# The transient ID for each candidate\n",
    "ID_test"
   ]
  },
  {
   "cell_type": "code",
   "execution_count": 6,
   "metadata": {},
   "outputs": [
    {
     "data": {
      "text/plain": [
       "array([1.00000000e+00, 1.71089638e-02, 4.81271098e-04, ...,\n",
       "       3.27687982e-26, 0.00000000e+00, 1.04439086e-23], dtype=float32)"
      ]
     },
     "execution_count": 6,
     "metadata": {},
     "output_type": "execute_result"
    }
   ],
   "source": [
    "# The probability that each source is a real source: It varies from 0 to 1\n",
    "overall_real_prob"
   ]
  },
  {
   "cell_type": "code",
   "execution_count": 7,
   "metadata": {},
   "outputs": [
    {
     "data": {
      "text/html": [
       "<div>\n",
       "<style scoped>\n",
       "    .dataframe tbody tr th:only-of-type {\n",
       "        vertical-align: middle;\n",
       "    }\n",
       "\n",
       "    .dataframe tbody tr th {\n",
       "        vertical-align: top;\n",
       "    }\n",
       "\n",
       "    .dataframe thead th {\n",
       "        text-align: right;\n",
       "    }\n",
       "</style>\n",
       "<table border=\"1\" class=\"dataframe\">\n",
       "  <thead>\n",
       "    <tr style=\"text-align: right;\">\n",
       "      <th></th>\n",
       "      <th>candidate</th>\n",
       "      <th>probability</th>\n",
       "      <th>label</th>\n",
       "    </tr>\n",
       "  </thead>\n",
       "  <tbody>\n",
       "  </tbody>\n",
       "</table>\n",
       "</div>"
      ],
      "text/plain": [
       "Empty DataFrame\n",
       "Columns: [candidate, probability, label]\n",
       "Index: []"
      ]
     },
     "execution_count": 7,
     "metadata": {},
     "output_type": "execute_result"
    }
   ],
   "source": [
    "# A dataframe that contains the transient ID and its probability that it is a Real source\n",
    "overall_dataframe.iloc[1900:,:]"
   ]
  },
  {
   "cell_type": "code",
   "execution_count": null,
   "metadata": {},
   "outputs": [],
   "source": []
  }
 ],
 "metadata": {
  "kernelspec": {
   "display_name": "Python 3",
   "language": "python",
   "name": "python3"
  },
  "language_info": {
   "codemirror_mode": {
    "name": "ipython",
    "version": 3
   },
   "file_extension": ".py",
   "mimetype": "text/x-python",
   "name": "python",
   "nbconvert_exporter": "python",
   "pygments_lexer": "ipython3",
   "version": "3.6.10"
  }
 },
 "nbformat": 4,
 "nbformat_minor": 2
}
